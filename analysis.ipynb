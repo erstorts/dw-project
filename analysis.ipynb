{
 "cells": [
  {
   "cell_type": "code",
   "execution_count": null,
   "id": "b7f40572",
   "metadata": {},
   "outputs": [],
   "source": []
  },
  {
   "cell_type": "markdown",
   "id": "2d96dc84",
   "metadata": {},
   "source": [
    "- basic stats\n",
    "- what vars show -> sub\n",
    "- is there a point for numeric vars at which sub is more likely (model)"
   ]
  },
  {
   "cell_type": "markdown",
   "id": "3c910609",
   "metadata": {},
   "source": [
    "Use the above results to create a pred model. Split data into random sample of not currently subbed for 'real world data' then rest is train/test set.  "
   ]
  },
  {
   "cell_type": "markdown",
   "id": "340dfcd4",
   "metadata": {},
   "source": [
    "Don't forget your recommendations along the way.... What is the story?!"
   ]
  },
  {
   "cell_type": "markdown",
   "id": "8d2438ff",
   "metadata": {},
   "source": []
  }
 ],
 "metadata": {
  "language_info": {
   "name": "python"
  }
 },
 "nbformat": 4,
 "nbformat_minor": 5
}
