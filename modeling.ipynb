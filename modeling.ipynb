{
 "cells": [
  {
   "cell_type": "code",
   "execution_count": null,
   "id": "fdeef197",
   "metadata": {},
   "outputs": [],
   "source": []
  },
  {
   "cell_type": "markdown",
   "id": "0e02de5d",
   "metadata": {},
   "source": [
    "is there a point for numeric vars at which sub is more likely (think FB's 7 friends in 10 days)"
   ]
  },
  {
   "cell_type": "markdown",
   "id": "537e5ee3",
   "metadata": {},
   "source": [
    "Use the above results to create a pred model. Split data into random sample of not currently subbed for 'real world data' then rest is train/test set.  "
   ]
  },
  {
   "cell_type": "markdown",
   "id": "9f6a82fd",
   "metadata": {},
   "source": []
  }
 ],
 "metadata": {
  "language_info": {
   "name": "python"
  }
 },
 "nbformat": 4,
 "nbformat_minor": 5
}
